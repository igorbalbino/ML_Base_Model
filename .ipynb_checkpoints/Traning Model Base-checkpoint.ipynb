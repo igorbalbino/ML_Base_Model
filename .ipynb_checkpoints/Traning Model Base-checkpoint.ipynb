{
 "cells": [
  {
   "cell_type": "code",
   "execution_count": 1,
   "metadata": {},
   "outputs": [],
   "source": [
    "#importa bibliotecas necessárias\n",
    "from random import randint\n",
    "\n",
    "#seta limite para dados de treino\n",
    "TRAIN_SET_LIMIT = 1000\n",
    "#seta limite para contagem\n",
    "TRAIN_SET_COUNT = 100\n",
    "\n",
    "#define variaveis que contem dados de treino\n",
    "TRAIN_INPUT = list()\n",
    "TRAIN_OUTPUT = list()\n",
    "#para cada i em range(TRAIN_SET_COUNT) atribui valor randomico, entre 0 e TRAIN_SET_LIMIT, para \"a\", \"b\" e \"c\", \n",
    "#faz uma operaçao com os valores de \"a\", \"b\" e \"c\", vincula \"a\", \"b\" e \"c\" em TRAIN_INPUT e op em TRAIN_OUTPUT\n",
    "for i in range(TRAIN_SET_COUNT):\n",
    "    a = randint(0, TRAIN_SET_LIMIT)\n",
    "    b = randint(0, TRAIN_SET_LIMIT)\n",
    "    c = randint(0, TRAIN_SET_LIMIT)\n",
    "    op = a + (2*b) + (3*c)\n",
    "    #vincula \"a\", \"b\" e \"c\" em TRAIN_INPUT\n",
    "    TRAIN_INPUT.append([a, b, c])\n",
    "    #vincula \"op\" em TRAIN_OUTPUT\n",
    "    TRAIN_OUTPUT.append(op)"
   ]
  },
  {
   "cell_type": "code",
   "execution_count": 2,
   "metadata": {},
   "outputs": [
    {
     "data": {
      "text/plain": [
       "LinearRegression(n_jobs=-1)"
      ]
     },
     "execution_count": 2,
     "metadata": {},
     "output_type": "execute_result"
    }
   ],
   "source": [
    "#importa bibliotecas necessárias\n",
    "from sklearn.linear_model import LinearRegression\n",
    "\n",
    "#cria predictor e atribuia ele o resultado de LinearRegression(n_jobs=-1)\n",
    "#LinearRegression(n_jobs=-1) = LinearRegression fits a linear model with coefficients w = (w1, …, wp) \n",
    "#to minimize the residual sum of squares between the observed targets in the dataset, \n",
    "#and the targets predicted by the linear approximation.\n",
    "#The number of jobs to use for the computation. -1 means using all processors.\n",
    "predictor = LinearRegression(n_jobs=-1)\n",
    "#Fit linear model. Treina o model com dados lineares\n",
    "predictor.fit(X=TRAIN_INPUT, y=TRAIN_OUTPUT)"
   ]
  },
  {
   "cell_type": "code",
   "execution_count": 3,
   "metadata": {},
   "outputs": [
    {
     "name": "stdout",
     "output_type": "stream",
     "text": [
      "Outcome : [140.]\n",
      "Coefficients : [1. 2. 3.]\n"
     ]
    }
   ],
   "source": [
    "#define X_TEST e atribui 3 valores a ele\n",
    "X_TEST = [[10, 20, 30]]\n",
    "#define outcome e, usando predictor, que foi criado e treinado com dados aleatorios anteriormente \n",
    "outcome = predictor.predict(X=X_TEST)\n",
    "#Estimated coefficients for the linear regression problem. \n",
    "#If multiple targets are passed during the fit (y 2D), this is a 2D array of shape (n_targets, n_features), \n",
    "#while if only one target is passed, this is a 1D array of length n_features.\n",
    "coefficients = predictor.coef_\n",
    "\n",
    "#printa a saíca formatada\n",
    "print('Outcome : {}\\nCoefficients : {}'.format(outcome, coefficients))"
   ]
  },
  {
   "cell_type": "code",
   "execution_count": 4,
   "metadata": {},
   "outputs": [
    {
     "name": "stdout",
     "output_type": "stream",
     "text": [
      "Outcome : [427.]\n",
      "Coefficients : [1. 2. 3.]\n"
     ]
    }
   ],
   "source": [
    "#define X_TEST e atribui 3 valores a ele\n",
    "X_TEST = [[15, 74, 88]]\n",
    "#define outcome e, usando predictor, que foi criado e treinado com dados aleatorios anteriormente \n",
    "outcome = predictor.predict(X=X_TEST)\n",
    "#Estimated coefficients for the linear regression problem. \n",
    "#If multiple targets are passed during the fit (y 2D), this is a 2D array of shape (n_targets, n_features), \n",
    "#while if only one target is passed, this is a 1D array of length n_features.\n",
    "coefficients = predictor.coef_\n",
    "\n",
    "#printa a saíca formatada\n",
    "print('Outcome : {}\\nCoefficients : {}'.format(outcome, coefficients))"
   ]
  },
  {
   "cell_type": "code",
   "execution_count": 5,
   "metadata": {},
   "outputs": [
    {
     "name": "stdout",
     "output_type": "stream",
     "text": [
      "Outcome : [316.]\n",
      "Coefficients : [1. 2. 3.]\n"
     ]
    }
   ],
   "source": [
    "#define X_TEST e atribui 3 valores a ele\n",
    "X_TEST = [[47, 28, 71]]\n",
    "#define outcome e, usando predictor, que foi criado e treinado com dados aleatorios anteriormente \n",
    "outcome = predictor.predict(X=X_TEST)\n",
    "#Estimated coefficients for the linear regression problem. \n",
    "#If multiple targets are passed during the fit (y 2D), this is a 2D array of shape (n_targets, n_features), \n",
    "#while if only one target is passed, this is a 1D array of length n_features.\n",
    "coefficients = predictor.coef_\n",
    "\n",
    "#printa a saíca formatada\n",
    "print('Outcome : {}\\nCoefficients : {}'.format(outcome, coefficients))"
   ]
  },
  {
   "cell_type": "code",
   "execution_count": null,
   "metadata": {},
   "outputs": [],
   "source": [
    "'''\n",
    "Did you notice what just happened? \n",
    "The model had access to the training data, \n",
    "through which it calculated the weights to assign to the inputs to arrive at the desired output. \n",
    "On giving test data, it successfully managed to get the right answer!\n",
    "'''"
   ]
  }
 ],
 "metadata": {
  "kernelspec": {
   "display_name": "Python 3",
   "language": "python",
   "name": "python3"
  },
  "language_info": {
   "codemirror_mode": {
    "name": "ipython",
    "version": 3
   },
   "file_extension": ".py",
   "mimetype": "text/x-python",
   "name": "python",
   "nbconvert_exporter": "python",
   "pygments_lexer": "ipython3",
   "version": "3.8.5"
  }
 },
 "nbformat": 4,
 "nbformat_minor": 4
}
